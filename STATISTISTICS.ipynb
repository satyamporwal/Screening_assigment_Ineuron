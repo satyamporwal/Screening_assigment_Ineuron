{
 "cells": [
  {
   "cell_type": "markdown",
   "id": "0d871dda",
   "metadata": {},
   "source": [
    "Ans- correlation coefficient indicates a strong positive relation between SAT scores & college GPA means if the gpa score is high than automatically SAT scores also high & if the gpa score is low than SAT is also low.Ans- correlation coefficient indicates a strong positive relation between SAT scores & college GPA means if the gpa score is high than automatically SAT scores also high & if the gpa score is low than SAT is also low.Ans- correlation coefficient indicates a strong positive relation between SAT scores & college GPA means if the gpa score is high than automatically SAT scores also high & if the gpa score is low than SAT is also low.# Statistics \n",
    "Q-1. A university wants to understand the relationship between the SAT scores of its\n",
    "applicants and their college GPA. They collect data on 500 students, including their SAT\n",
    "scores (out of 1600) and their college GPA (on a 4.0 scale). They find that the correlation\n",
    "coefficient between SAT scores and college GPA is 0.7. What does this correlation\n",
    "coefficient indicate about the relationship between SAT scores and college GPA?\n",
    "\n",
    "***Ans- correlation coefficient indicates a strong positive relation between SAT scores & college GPA means if the gpa score is high than automatically SAT scores also high & if the gpa score is low than SAT is also low.\n",
    "\n",
    "\n",
    "\n",
    "Q-2. Consider a dataset containing the heights (in centimeters) of 1000 individuals. The\n",
    "mean height is 170 cm with a standard deviation of 10 cm. The dataset is approximately\n",
    "normally distributed, and its skewness is approximately zero. Based on this information,\n",
    "answer the following questions:\n",
    "a. What percentage of individuals in the dataset have heights between 160 cm\n",
    "and 180 cm?\n",
    "b. If we randomly select 100 individuals from the dataset, what is the probability\n",
    "that their average height is greater than 175 cm?\n",
    "c. Assuming the dataset follows a normal distribution, what is the z-score\n",
    "corresponding to a height of 185 cm?\n",
    "d. We know that 5% of the dataset has heights below a certain value. What is\n",
    "the approximate height corresponding to this threshold?\n",
    "e. Calculate the coefficient of variation (CV) for the dataset.\n",
    "f. Calculate the skewness of the dataset and interpret the result.\n",
    "\n",
    "\n",
    "\n",
    "Answer a) To determine the percentage of individuals in the dataset with heights between 160 cm and 180 cm, we can use the properties of the standard normal distribution. Given that the dataset is approximately normally distributed with a mean height of 170 cm and a standard deviation of 10 cm, we can calculate the z-scores for the lower and upper bounds of the desired range.\n",
    "\n",
    "The z-score formula is:\n",
    "\n",
    "Z = (X - μ) / σ\n",
    "\n",
    "Where:\n",
    "Z is the z-score\n",
    "X is the individual height\n",
    "μ is the mean height\n",
    "σ is the standard deviation\n",
    "\n",
    "For the lower bound:\n",
    "Z1 = (160 - 170) / 10 = -1\n",
    "\n",
    "For the upper bound:\n",
    "Z2 = (180 - 170) / 10 = 1\n",
    "\n",
    "Next, we can use a standard normal distribution table or a statistical software to find the corresponding probabilities for these z-scores. The probabilities represent the area under the standard normal distribution curve between the z-scores.\n",
    "\n",
    "The probability corresponding to the z-score of -1 is approximately 0.1587.\n",
    "The probability corresponding to the z-score of 1 is approximately 0.8413.\n",
    "\n",
    "To find the percentage of individuals with heights between 160 cm and 180 cm, we subtract the lower probability from the upper probability:\n",
    "Percentage = (0.8413 - 0.1587) * 100 = 68.26%\n",
    "\n",
    "Therefore, approximately 68.26% of individuals in the dataset have heights between 160 cm and 180 cm.\n",
    "\n",
    "\n",
    "\n",
    "\n",
    "\n"
   ]
  },
  {
   "cell_type": "code",
   "execution_count": 1,
   "id": "5d68b8f3",
   "metadata": {},
   "outputs": [
    {
     "name": "stdout",
     "output_type": "stream",
     "text": [
      "The percentage of individuals with heights between 160 cm and 180 cm is: 68.27%\n"
     ]
    }
   ],
   "source": [
    "#using python\n",
    "import scipy.stats as stats\n",
    "\n",
    "mean_height = 170\n",
    "std_dev = 10\n",
    "\n",
    "lower_bound = 160\n",
    "upper_bound = 180\n",
    "\n",
    "# Calculate the z-scores\n",
    "z1 = (lower_bound - mean_height) / std_dev\n",
    "z2 = (upper_bound - mean_height) / std_dev\n",
    "\n",
    "# Calculate the percentage using the cumulative distribution function (CDF)\n",
    "percentage = stats.norm.cdf(z2) - stats.norm.cdf(z1)\n",
    "\n",
    "# Convert to percentage\n",
    "percentage *= 100\n",
    "\n",
    "print(f\"The percentage of individuals with heights between 160 cm and 180 cm is: {percentage:.2f}%\")\n"
   ]
  },
  {
   "cell_type": "markdown",
   "id": "a6c57b64",
   "metadata": {},
   "source": [
    "***answer b).*** To calculate the probability that the average height of a randomly selected group of 100 individuals from the dataset is greater than 175 cm, we can use the Central Limit Theorem. According to the Central Limit Theorem, the distribution of sample means approaches a normal distribution as the sample size increases, regardless of the shape of the original population distribution.\n",
    "\n",
    "Mathematically, we can calculate the z-score for the given average height and sample size, and then use the standard normal distribution to find the probability.\n",
    "\n",
    "Let's calculate it mathematically:\n",
    "\n",
    "The mean of the sample means (μ') is equal to the mean of the population, which is 170 cm.\n",
    "\n",
    "The standard deviation of the sample means (σ') is equal to the standard deviation of the population divided by the square root of the sample size:\n",
    "\n",
    "σ' = σ / √n\n",
    "\n",
    "where σ is the standard deviation of the population and n is the sample size.\n",
    "\n",
    "In this case, σ = 10 cm and n = 100, so:\n",
    "\n",
    "σ' = 10 / √100 = 10 / 10 = 1 cm\n",
    "\n",
    "Next, we calculate the z-score:\n",
    "\n",
    "Z = (X - μ') / σ'\n",
    "\n",
    "Z = (175 - 170) / 1 = 5\n",
    "\n",
    "Finally, we find the probability using the standard normal distribution:\n",
    "\n",
    "P(X > 175) = 1 - P(X ≤ 175) = 1 - P(Z ≤ 5)\n",
    "\n",
    "Using a standard normal distribution table or a statistical software, we can find the probability associated with the z-score of 5. P(Z > 5) ≈ 0\n",
    "\n",
    "Now let's calculate it using Python code:"
   ]
  },
  {
   "cell_type": "code",
   "execution_count": 2,
   "id": "1796caaf",
   "metadata": {},
   "outputs": [
    {
     "name": "stdout",
     "output_type": "stream",
     "text": [
      "The probability that the average height of a randomly selected group of 100 individuals is greater than 175 cm is: 0.0000\n"
     ]
    }
   ],
   "source": [
    "import scipy.stats as stats\n",
    "\n",
    "mean_height = 170\n",
    "std_dev = 10\n",
    "sample_size = 100\n",
    "average_height = 175\n",
    "\n",
    "# Calculate the standard deviation of the sample means\n",
    "std_dev_sample_means = std_dev / (sample_size ** 0.5)\n",
    "\n",
    "# Calculate the z-score\n",
    "z = (average_height - mean_height) / std_dev_sample_means\n",
    "\n",
    "# Calculate the probability using the standard normal distribution\n",
    "probability = 1 - stats.norm.cdf(z)\n",
    "\n",
    "print(f\"The probability that the average height of a randomly selected group of 100 individuals is greater than 175 cm is: {probability:.4f}\")\n"
   ]
  },
  {
   "cell_type": "markdown",
   "id": "96070334",
   "metadata": {},
   "source": [
    "***answer c).*** To calculate the z-score corresponding to a height of 185 cm in a normal distribution, we need to use the formula:\n",
    "\n",
    "Z = (X - μ) / σ\n",
    "\n",
    "Where:\n",
    "Z is the z-score\n",
    "X is the observed value (height in this case)\n",
    "μ is the mean of the distribution (given as 170 cm)\n",
    "σ is the standard deviation of the distribution (given as 10 cm)\n",
    "\n",
    "Using the given values:\n",
    "\n",
    "Z = (185 - 170) / 10\n",
    "Z = 15 / 10\n",
    "Z = 1.5\n",
    "\n",
    "Therefore, the z-score corresponding to a height of 185 cm in the normal distribution is 1.5.\n",
    "\n",
    "\n",
    "\n",
    "\n"
   ]
  },
  {
   "cell_type": "code",
   "execution_count": 3,
   "id": "fc347727",
   "metadata": {},
   "outputs": [
    {
     "name": "stdout",
     "output_type": "stream",
     "text": [
      "The z-score corresponding to a height of 185 cm is: 1.50\n"
     ]
    }
   ],
   "source": [
    "mean_height = 170\n",
    "std_dev = 10\n",
    "observed_height = 185\n",
    "\n",
    "# Calculate the z-score\n",
    "z = (observed_height - mean_height) / std_dev\n",
    "\n",
    "print(f\"The z-score corresponding to a height of 185 cm is: {z:.2f}\")\n"
   ]
  },
  {
   "cell_type": "markdown",
   "id": "ca101bd9",
   "metadata": {},
   "source": [
    "***Answe d).*** To find the approximate height corresponding to the threshold below which 5% of the dataset falls, we need to use the inverse cumulative distribution function (also known as the quantile function) of the standard normal distribution.\n",
    "\n",
    "Mathematically, we want to find the value of X such that P(X < X_threshold) = 0.05.\n",
    "\n",
    "Let's calculate it mathematically:\n",
    "\n",
    "Using a standard normal distribution table or statistical software, we can find the z-score corresponding to a cumulative probability of 0.05. The z-score represents the number of standard deviations away from the mean.\n",
    "\n",
    "Let's denote the z-score as Z_threshold.\n",
    "\n",
    "Then, we can use the formula to calculate the approximate height:\n",
    "\n",
    "X_threshold = Z_threshold * σ + μ\n",
    "\n",
    "Where:\n",
    "X_threshold is the height corresponding to the threshold\n",
    "Z_threshold is the z-score corresponding to the cumulative probability of 0.05\n",
    "σ is the standard deviation of the dataset (given as 10 cm)\n",
    "μ is the mean of the dataset (given as 170 cm)\n",
    "Substituting the values:\n",
    "\n",
    "X_threshold = -1.645 * 10 + 170\n",
    "X_threshold = -16.45 + 170\n",
    "X_threshold ≈ 153.55 cm\n",
    "\n",
    "Therefore, the approximate height corresponding to the threshold below which 5% of the dataset falls is approximately 153.55 cm.\n",
    "\n",
    "Now let's calculate it using Python code:\n"
   ]
  },
  {
   "cell_type": "code",
   "execution_count": 5,
   "id": "8a2e96bf",
   "metadata": {},
   "outputs": [
    {
     "name": "stdout",
     "output_type": "stream",
     "text": [
      "The approximate height corresponding to the threshold is: 153.55 cm\n"
     ]
    }
   ],
   "source": [
    "import scipy.stats as stats\n",
    "\n",
    "mean_height = 170\n",
    "std_dev = 10\n",
    "cumulative_prob = 0.05\n",
    "\n",
    "# Calculate the z-score corresponding to the cumulative probability\n",
    "z_threshold = stats.norm.ppf(cumulative_prob)\n",
    "\n",
    "# Calculate the height corresponding to the threshold\n",
    "height_threshold = z_threshold * std_dev + mean_height\n",
    "\n",
    "print(f\"The approximate height corresponding to the threshold is: {height_threshold:.2f} cm\")\n"
   ]
  },
  {
   "cell_type": "markdown",
   "id": "43751696",
   "metadata": {},
   "source": [
    "***Answer e).*** Mathematically, the coefficient of variation (CV) is calculated as:\n",
    "\n",
    "CV = (σ / μ) * 100\n",
    "\n",
    "Where:\n",
    "CV is the coefficient of variation\n",
    "σ is the standard deviation of the dataset\n",
    "μ is the mean of the dataset\n",
    "\n",
    "Using the given information, let's calculate the coefficient of variation:\n",
    "\n",
    "CV = (10 / 170) * 100\n",
    "CV ≈ 5.88%\n",
    "\n",
    "Therefore, the coefficient of variation for the dataset is approximately 5.88%.\n",
    "\n",
    "\n",
    "\n",
    "\n"
   ]
  },
  {
   "cell_type": "code",
   "execution_count": 7,
   "id": "b2d75096",
   "metadata": {},
   "outputs": [
    {
     "name": "stdout",
     "output_type": "stream",
     "text": [
      "The coefficient of variation (CV) for the dataset is: 5.88%\n"
     ]
    }
   ],
   "source": [
    "mean_height = 170\n",
    "std_dev = 10\n",
    "\n",
    "# Calculate the coefficient of variation\n",
    "cv = (std_dev / mean_height) * 100\n",
    "\n",
    "print(f\"The coefficient of variation (CV) for the dataset is: {cv:.2f}%\")\n"
   ]
  },
  {
   "cell_type": "code",
   "execution_count": 8,
   "id": "97b13cdd",
   "metadata": {},
   "outputs": [
    {
     "name": "stdout",
     "output_type": "stream",
     "text": [
      "The skewness of the dataset is: -0.01\n"
     ]
    }
   ],
   "source": [
    "#answer f).\n",
    "import scipy.stats as stats\n",
    "\n",
    "mean_height = 170\n",
    "std_dev = 10\n",
    "\n",
    "# Generate a normal distribution dataset based on the given mean and standard deviation\n",
    "data = stats.norm.rvs(loc=mean_height, scale=std_dev, size=1000)\n",
    "\n",
    "# Calculate the skewness\n",
    "skewness = stats.skew(data)\n",
    "\n",
    "print(f\"The skewness of the dataset is: {skewness:.2f}\")\n"
   ]
  },
  {
   "cell_type": "markdown",
   "id": "5044ca8b",
   "metadata": {},
   "source": [
    "Given that the skewness of the dataset is approximately -0.01, it indicates that the dataset is approximately symmetric and does not have a significant deviation from a normal distribution. A skewness value close to zero suggests that the dataset is well-balanced, with no pronounced tail on either side. This aligns with the information provided that the dataset is approximately normally distributed and has a skewness close to zero."
   ]
  },
  {
   "cell_type": "code",
   "execution_count": 10,
   "id": "b1e79092",
   "metadata": {},
   "outputs": [
    {
     "data": {
      "image/png": "[encoded data removed]",
      "text/plain": [
       "<Figure size 640x480 with 1 Axes>"
      ]
     },
     "metadata": {},
     "output_type": "display_data"
    }
   ],
   "source": [
    "import matplotlib.pyplot as plt\n",
    "import numpy as np\n",
    "import scipy.stats as stats\n",
    "\n",
    "mean_height = 170\n",
    "std_dev = 10\n",
    "\n",
    "# Generate a normal distribution dataset based on the given mean and standard deviation\n",
    "data = stats.norm.rvs(loc=mean_height, scale=std_dev, size=1000)\n",
    "\n",
    "# Calculate the skewness\n",
    "skewness = stats.skew(data)\n",
    "\n",
    "# Create a histogram plot\n",
    "plt.hist(data, bins=30, density=True, alpha=0.7)\n",
    "\n",
    "# Add labels and title\n",
    "plt.xlabel('Height (cm)')\n",
    "plt.ylabel('Density')\n",
    "plt.title('Distribution of Heights')\n",
    "\n",
    "# Add skewness information to the plot\n",
    "plt.text(0.6, 0.9, f\"Skewness: {skewness:.2f}\", transform=plt.gca().transAxes)\n",
    "\n",
    "# Display the plot\n",
    "plt.show()\n"
   ]
  },
  {
   "cell_type": "markdown",
   "id": "805bea6b",
   "metadata": {},
   "source": [
    "Q-3. Consider the ‘Blood Pressure Before’ and ‘Blood Pressure After’ columns from the\n",
    "data and calculate the following\n",
    "\n",
    "https://drive.google.com/file/d/1mCjtYHiX--mMUjicuaP2gH3k-SnFxt8Y/view?usp=share_\n",
    "a. Measure the dispersion in both and interpret the results.\n",
    "b. Calculate mean and 5% confidence interval and plot it in a graph\n",
    "c. Calculate the Mean absolute deviation and Standard deviation and interpret\n",
    "the results.\n",
    "d. Calculate the correlation coefficient and check the significance\n",
    "\n",
    "\n"
   ]
  },
  {
   "cell_type": "code",
   "execution_count": 12,
   "id": "57160820",
   "metadata": {},
   "outputs": [],
   "source": [
    "import pandas as pd\n",
    "import numpy as np\n",
    "\n",
    "# Read the dataset from the provided link\n",
    "data = pd.read_csv('https://drive.google.com/uc?export=download&id=1mCjtYHiX--mMUjicuaP2gH3k-SnFxt8Y')\n",
    "\n",
    "\n"
   ]
  },
  {
   "cell_type": "code",
   "execution_count": 13,
   "id": "65e527ab",
   "metadata": {},
   "outputs": [
    {
     "data": {
      "text/html": [
       "<div>\n",
       "<style scoped>\n",
       "    .dataframe tbody tr th:only-of-type {\n",
       "        vertical-align: middle;\n",
       "    }\n",
       "\n",
       "    .dataframe tbody tr th {\n",
       "        vertical-align: top;\n",
       "    }\n",
       "\n",
       "    .dataframe thead th {\n",
       "        text-align: right;\n",
       "    }\n",
       "</style>\n",
       "<table border=\"1\" class=\"dataframe\">\n",
       "  <thead>\n",
       "    <tr style=\"text-align: right;\">\n",
       "      <th></th>\n",
       "      <th>Patient ID</th>\n",
       "      <th>Blood Pressure Before (mmHg)</th>\n",
       "      <th>Blood Pressure After (mmHg)</th>\n",
       "    </tr>\n",
       "  </thead>\n",
       "  <tbody>\n",
       "    <tr>\n",
       "      <th>0</th>\n",
       "      <td>1</td>\n",
       "      <td>130</td>\n",
       "      <td>120</td>\n",
       "    </tr>\n",
       "    <tr>\n",
       "      <th>1</th>\n",
       "      <td>2</td>\n",
       "      <td>142</td>\n",
       "      <td>135</td>\n",
       "    </tr>\n",
       "    <tr>\n",
       "      <th>2</th>\n",
       "      <td>3</td>\n",
       "      <td>120</td>\n",
       "      <td>118</td>\n",
       "    </tr>\n",
       "    <tr>\n",
       "      <th>3</th>\n",
       "      <td>4</td>\n",
       "      <td>135</td>\n",
       "      <td>127</td>\n",
       "    </tr>\n",
       "    <tr>\n",
       "      <th>4</th>\n",
       "      <td>5</td>\n",
       "      <td>148</td>\n",
       "      <td>140</td>\n",
       "    </tr>\n",
       "    <tr>\n",
       "      <th>...</th>\n",
       "      <td>...</td>\n",
       "      <td>...</td>\n",
       "      <td>...</td>\n",
       "    </tr>\n",
       "    <tr>\n",
       "      <th>95</th>\n",
       "      <td>96</td>\n",
       "      <td>136</td>\n",
       "      <td>129</td>\n",
       "    </tr>\n",
       "    <tr>\n",
       "      <th>96</th>\n",
       "      <td>97</td>\n",
       "      <td>143</td>\n",
       "      <td>137</td>\n",
       "    </tr>\n",
       "    <tr>\n",
       "      <th>97</th>\n",
       "      <td>98</td>\n",
       "      <td>127</td>\n",
       "      <td>123</td>\n",
       "    </tr>\n",
       "    <tr>\n",
       "      <th>98</th>\n",
       "      <td>99</td>\n",
       "      <td>139</td>\n",
       "      <td>135</td>\n",
       "    </tr>\n",
       "    <tr>\n",
       "      <th>99</th>\n",
       "      <td>100</td>\n",
       "      <td>135</td>\n",
       "      <td>130</td>\n",
       "    </tr>\n",
       "  </tbody>\n",
       "</table>\n",
       "<p>100 rows × 3 columns</p>\n",
       "</div>"
      ],
      "text/plain": [
       "    Patient ID   Blood Pressure Before (mmHg)   Blood Pressure After (mmHg)\n",
       "0            1                            130                           120\n",
       "1            2                            142                           135\n",
       "2            3                            120                           118\n",
       "3            4                            135                           127\n",
       "4            5                            148                           140\n",
       "..         ...                            ...                           ...\n",
       "95          96                            136                           129\n",
       "96          97                            143                           137\n",
       "97          98                            127                           123\n",
       "98          99                            139                           135\n",
       "99         100                            135                           130\n",
       "\n",
       "[100 rows x 3 columns]"
      ]
     },
     "execution_count": 13,
     "metadata": {},
     "output_type": "execute_result"
    }
   ],
   "source": [
    "data"
   ]
  },
  {
   "cell_type": "code",
   "execution_count": 16,
   "id": "c5e57626",
   "metadata": {},
   "outputs": [
    {
     "data": {
      "text/plain": [
       "Index(['Patient ID', ' Blood Pressure Before (mmHg)',\n",
       "       ' Blood Pressure After (mmHg)'],\n",
       "      dtype='object')"
      ]
     },
     "execution_count": 16,
     "metadata": {},
     "output_type": "execute_result"
    }
   ],
   "source": [
    "data.columns"
   ]
  },
  {
   "cell_type": "code",
   "execution_count": 18,
   "id": "c8cfaa43",
   "metadata": {},
   "outputs": [],
   "source": [
    "# Remove leading and trailing spaces from column names\n",
    "data.columns = data.columns.str.strip()\n",
    "# Extract the 'Blood Pressure Before' and 'Blood Pressure After' columns\n",
    "bp_before = data['Blood Pressure Before (mmHg)']\n",
    "bp_after = data['Blood Pressure After (mmHg)']"
   ]
  },
  {
   "cell_type": "code",
   "execution_count": 19,
   "id": "edac02eb",
   "metadata": {},
   "outputs": [],
   "source": [
    "# Calculate the range\n",
    "range_before = np.max(bp_before) - np.min(bp_before)\n",
    "range_after = np.max(bp_after) - np.min(bp_after)"
   ]
  },
  {
   "cell_type": "code",
   "execution_count": 22,
   "id": "9adef0e0",
   "metadata": {},
   "outputs": [
    {
     "name": "stdout",
     "output_type": "stream",
     "text": [
      "28\n",
      "23\n"
     ]
    }
   ],
   "source": [
    "print(range_before)\n",
    "print(range_after)"
   ]
  },
  {
   "cell_type": "code",
   "execution_count": 25,
   "id": "ba808b42",
   "metadata": {},
   "outputs": [
    {
     "name": "stdout",
     "output_type": "stream",
     "text": [
      "before 43.10189999999998\n",
      "after 46.97040000000002\n"
     ]
    }
   ],
   "source": [
    "# Calculate the variance\n",
    "variance_before = np.var(bp_before)\n",
    "variance_after = np.var(bp_after)\n",
    "print(\"before\", variance_before)\n",
    "print(\"after\", variance_after)"
   ]
  },
  {
   "cell_type": "code",
   "execution_count": 28,
   "id": "bec44b71",
   "metadata": {},
   "outputs": [
    {
     "name": "stdout",
     "output_type": "stream",
     "text": [
      "6.5652037287505385\n",
      "6.853495458523338\n"
     ]
    }
   ],
   "source": [
    "# Calculate the standard deviation\n",
    "std_dev_before = np.std(bp_before)\n",
    "std_dev_after = np.std(bp_after)\n",
    "print(std_dev_before)\n",
    "print(std_dev_after)"
   ]
  },
  {
   "cell_type": "code",
   "execution_count": 29,
   "id": "ce40dcac",
   "metadata": {},
   "outputs": [
    {
     "name": "stdout",
     "output_type": "stream",
     "text": [
      "Dispersion measures for 'Blood Pressure Before':\n",
      "Range: 28.00\n",
      "Variance: 43.10\n",
      "Standard Deviation: 6.57\n",
      "\n",
      "Dispersion measures for 'Blood Pressure After':\n",
      "Range: 23.00\n",
      "Variance: 46.97\n",
      "Standard Deviation: 6.85\n"
     ]
    }
   ],
   "source": [
    "# Interpret the results\n",
    "print(f\"Dispersion measures for 'Blood Pressure Before':\")\n",
    "print(f\"Range: {range_before:.2f}\")\n",
    "print(f\"Variance: {variance_before:.2f}\")\n",
    "print(f\"Standard Deviation: {std_dev_before:.2f}\")\n",
    "print()\n",
    "print(f\"Dispersion measures for 'Blood Pressure After':\")\n",
    "print(f\"Range: {range_after:.2f}\")\n",
    "print(f\"Variance: {variance_after:.2f}\")\n",
    "print(f\"Standard Deviation: {std_dev_after:.2f}\")"
   ]
  },
  {
   "cell_type": "code",
   "execution_count": 30,
   "id": "b61b1979",
   "metadata": {},
   "outputs": [
    {
     "name": "stdout",
     "output_type": "stream",
     "text": [
      "Mean of 'Blood Pressure Before': 133.91\n",
      "Confidence Interval (5%): (132.6232200691649, 135.1967799308351)\n"
     ]
    },
    {
     "data": {
      "image/png": "[encoded data removed]",
      "text/plain": [
       "<Figure size 800x600 with 1 Axes>"
      ]
     },
     "metadata": {},
     "output_type": "display_data"
    }
   ],
   "source": [
    "#b\n",
    "# Calculate the mean\n",
    "mean_before = np.mean(bp_before)\n",
    "\n",
    "# Calculate the standard error of the mean\n",
    "sem_before = np.std(bp_before) / np.sqrt(len(bp_before))\n",
    "\n",
    "# Calculate the margin of error for 5% confidence interval\n",
    "margin_of_error = 1.96 * sem_before\n",
    "\n",
    "# Calculate the confidence interval\n",
    "confidence_interval = (mean_before - margin_of_error, mean_before + margin_of_error)\n",
    "\n",
    "# Print the mean and confidence interval\n",
    "print(\"Mean of 'Blood Pressure Before':\", mean_before)\n",
    "print(\"Confidence Interval (5%):\", confidence_interval)\n",
    "\n",
    "# Plot the data\n",
    "plt.figure(figsize=(8, 6))\n",
    "plt.hist(bp_before, bins=20, color='skyblue', edgecolor='black')\n",
    "plt.axvline(mean_before, color='red', linestyle='--', label='Mean')\n",
    "plt.axvline(confidence_interval[0], color='green', linestyle='--', label='Lower CI (5%)')\n",
    "plt.axvline(confidence_interval[1], color='green', linestyle='--', label='Upper CI (5%)')\n",
    "plt.xlabel('Blood Pressure Before (mmHg)')\n",
    "plt.ylabel('Frequency')\n",
    "plt.title('Distribution of Blood Pressure Before')\n",
    "plt.legend()\n",
    "plt.show()"
   ]
  },
  {
   "cell_type": "code",
   "execution_count": 31,
   "id": "8a626b28",
   "metadata": {},
   "outputs": [
    {
     "name": "stdout",
     "output_type": "stream",
     "text": [
      "Mean Absolute Deviation of 'Blood Pressure Before': 5.7118\n",
      "Standard Deviation of 'Blood Pressure Before': 6.598278012275075\n"
     ]
    }
   ],
   "source": [
    "# Calculate the mean absolute deviation (MAD)\n",
    "mad_before = np.mean(np.abs(bp_before - np.mean(bp_before)))\n",
    "\n",
    "# Calculate the standard deviation (SD)\n",
    "sd_before = np.std(bp_before, ddof=1)\n",
    "\n",
    "# Interpret the results\n",
    "print(\"Mean Absolute Deviation of 'Blood Pressure Before':\", mad_before)\n",
    "print(\"Standard Deviation of 'Blood Pressure Before':\", sd_before)"
   ]
  },
  {
   "cell_type": "code",
   "execution_count": 32,
   "id": "e4eac10d",
   "metadata": {},
   "outputs": [
    {
     "name": "stdout",
     "output_type": "stream",
     "text": [
      "Correlation Coefficient: 0.9779485966556019\n",
      "Significance at 1% level: significant\n"
     ]
    }
   ],
   "source": [
    "from scipy.stats import pearsonr\n",
    "# Calculate the correlation coefficient\n",
    "corr_coef, p_value = pearsonr(bp_before, bp_after)\n",
    "\n",
    "# Interpret the correlation coefficient\n",
    "if p_value < 0.01:\n",
    "    significance = \"significant\"\n",
    "else:\n",
    "    significance = \"not significant\"\n",
    "\n",
    "print(\"Correlation Coefficient:\", corr_coef)\n",
    "print(\"Significance at 1% level:\", significance)"
   ]
  },
  {
   "cell_type": "markdown",
   "id": "353ebb7f",
   "metadata": {},
   "source": [
    "Q-4. A group of 20 friends decide to play a game in which they each write a number\n",
    "between 1 and 20 on a slip of paper and put it into a hat. They then draw one slip of paper\n",
    "at random. What is the probability that the number on the slip of paper is a perfect square\n",
    "(i.e., 1, 4, 9, or 16)?\n",
    "To calculate the probability that the number drawn from the hat is a perfect square (i.e., 1, 4, 9, or 16) out of the numbers 1 to 20, we need to determine the number of favorable outcomes (perfect squares) and the total number of possible outcomes.\n",
    "\n",
    "Number of favorable outcomes: 4 (1, 4, 9, 16)\n",
    "Total number of possible outcomes: 20\n",
    "\n",
    "The probability is calculated by dividing the number of favorable outcomes by the total number of possible outcomes:\n",
    "\n",
    "Probability = Number of favorable outcomes / Total number of possible outcomes\n",
    "\n",
    "Probability = 4 / 20\n",
    "\n",
    "Simplifying the fraction:\n",
    "\n",
    "Probability = 1 / 5\n",
    "\n",
    "Therefore, the probability that the number drawn from the hat is a perfect square is 1/5 or 0.2.\n",
    "\n",
    "In Python, you can calculate and verify this probability using the following code:"
   ]
  },
  {
   "cell_type": "code",
   "execution_count": 33,
   "id": "53419eca",
   "metadata": {},
   "outputs": [
    {
     "name": "stdout",
     "output_type": "stream",
     "text": [
      "Probability: 0.2\n"
     ]
    }
   ],
   "source": [
    "favorable_outcomes = 4\n",
    "total_outcomes = 20\n",
    "\n",
    "probability = favorable_outcomes / total_outcomes\n",
    "\n",
    "print(\"Probability:\", probability)\n"
   ]
  },
  {
   "cell_type": "markdown",
   "id": "740d5307",
   "metadata": {},
   "source": [
    "Q-5. A certain city has two taxi companies: Company A has 80% of the taxis and\n",
    "Company B has 20% of the taxis. Company A's taxis have a 95% success rate for picking\n",
    "up passengers on time, while Company B's taxis have a 90% success rate. If a randomly\n",
    "selected taxi is late, what is the probability that it belongs to Company A?\n",
    "To calculate the probability that a randomly selected taxi, which is late, belongs to Company A, we can use Bayes' theorem.\n",
    "\n",
    "Let's denote the following:\n",
    "\n",
    "A: Event that the taxi belongs to Company A\n",
    "B: Event that the taxi is late\n",
    "We are interested in finding P(A|B), the probability that the taxi belongs to Company A given that it is late.\n",
    "\n",
    "According to Bayes' theorem:\n",
    "\n",
    "P(A|B) = P(B|A) * P(A) / P(B)\n",
    "\n",
    "P(B|A) = Probability of the taxi being late given that it belongs to Company A = 1 - Success rate of Company A = 1 - 0.95 = 0.05\n",
    "P(A) = Probability of selecting a taxi from Company A = 0.8\n",
    "P(B) = Probability of the taxi being late = P(B|A) * P(A) + P(B|not A) * P(not A)\n",
    "\n",
    "P(B|not A) = Probability of the taxi being late given that it does not belong to Company A = 1 - Success rate of Company B = 1 - 0.9 = 0.1\n",
    "P(not A) = Probability of selecting a taxi not from Company A = 0.2\n",
    "\n",
    "Now we can substitute these values into Bayes' theorem:\n",
    "\n",
    "P(A|B) = (0.05 * 0.8) / ((0.05 * 0.8) + (0.1 * 0.2))\n",
    "\n",
    "Simplifying the expression:\n",
    "\n",
    "P(A|B) = 0.04 / (0.04 + 0.02)\n",
    "= 0.04 / 0.06\n",
    "= 0.6667\n",
    "\n",
    "Therefore, the probability that a randomly selected taxi, which is late, belongs to Company A is approximately 0.6667 or 66.67%.\n",
    "\n",
    "In Python, you can calculate and verify this probability using the following code:"
   ]
  },
  {
   "cell_type": "markdown",
   "id": "4881eae2",
   "metadata": {},
   "source": [
    "P_B_given_A = 0.05\n",
    "P_A = 0.8\n",
    "P_B_given_not_A = 0.1\n",
    "P_not_A = 0.2\n",
    "\n",
    "P_B = (P_B_given_A * P_A) + (P_B_given_not_A * P_not_A)\n",
    "\n",
    "P_A_given_B = (P_B_given_A * P_A) / P_B\n",
    "\n",
    "print(\"Probability that the taxi belongs to Company A given it is late:\", P_A_given_B)\n"
   ]
  },
  {
   "cell_type": "markdown",
   "id": "ce7acb72",
   "metadata": {},
   "source": [
    "Q-6. A pharmaceutical company is developing a drug that is supposed to reduce blood\n",
    "pressure. They conduct a clinical trial with 100 patients and record their blood\n",
    "pressure before and after taking the drug. The company wants to know if the change\n",
    "in blood pressure follows a normal distribution.\n",
    "\n",
    "https://drive.google.com/file/d/1mCjtYHiX--mMUjicuaP2gH3k-SnFxt8Y/view?usp=share_"
   ]
  },
  {
   "cell_type": "code",
   "execution_count": 44,
   "id": "b1efd00c",
   "metadata": {},
   "outputs": [
    {
     "data": {
      "text/html": [
       "<div>\n",
       "<style scoped>\n",
       "    .dataframe tbody tr th:only-of-type {\n",
       "        vertical-align: middle;\n",
       "    }\n",
       "\n",
       "    .dataframe tbody tr th {\n",
       "        vertical-align: top;\n",
       "    }\n",
       "\n",
       "    .dataframe thead th {\n",
       "        text-align: right;\n",
       "    }\n",
       "</style>\n",
       "<table border=\"1\" class=\"dataframe\">\n",
       "  <thead>\n",
       "    <tr style=\"text-align: right;\">\n",
       "      <th></th>\n",
       "      <th>Patient ID</th>\n",
       "      <th>Blood Pressure Before (mmHg)</th>\n",
       "      <th>Blood Pressure After (mmHg)</th>\n",
       "    </tr>\n",
       "  </thead>\n",
       "  <tbody>\n",
       "    <tr>\n",
       "      <th>0</th>\n",
       "      <td>1</td>\n",
       "      <td>130</td>\n",
       "      <td>120</td>\n",
       "    </tr>\n",
       "    <tr>\n",
       "      <th>1</th>\n",
       "      <td>2</td>\n",
       "      <td>142</td>\n",
       "      <td>135</td>\n",
       "    </tr>\n",
       "    <tr>\n",
       "      <th>2</th>\n",
       "      <td>3</td>\n",
       "      <td>120</td>\n",
       "      <td>118</td>\n",
       "    </tr>\n",
       "    <tr>\n",
       "      <th>3</th>\n",
       "      <td>4</td>\n",
       "      <td>135</td>\n",
       "      <td>127</td>\n",
       "    </tr>\n",
       "    <tr>\n",
       "      <th>4</th>\n",
       "      <td>5</td>\n",
       "      <td>148</td>\n",
       "      <td>140</td>\n",
       "    </tr>\n",
       "    <tr>\n",
       "      <th>...</th>\n",
       "      <td>...</td>\n",
       "      <td>...</td>\n",
       "      <td>...</td>\n",
       "    </tr>\n",
       "    <tr>\n",
       "      <th>95</th>\n",
       "      <td>96</td>\n",
       "      <td>136</td>\n",
       "      <td>129</td>\n",
       "    </tr>\n",
       "    <tr>\n",
       "      <th>96</th>\n",
       "      <td>97</td>\n",
       "      <td>143</td>\n",
       "      <td>137</td>\n",
       "    </tr>\n",
       "    <tr>\n",
       "      <th>97</th>\n",
       "      <td>98</td>\n",
       "      <td>127</td>\n",
       "      <td>123</td>\n",
       "    </tr>\n",
       "    <tr>\n",
       "      <th>98</th>\n",
       "      <td>99</td>\n",
       "      <td>139</td>\n",
       "      <td>135</td>\n",
       "    </tr>\n",
       "    <tr>\n",
       "      <th>99</th>\n",
       "      <td>100</td>\n",
       "      <td>135</td>\n",
       "      <td>130</td>\n",
       "    </tr>\n",
       "  </tbody>\n",
       "</table>\n",
       "<p>100 rows × 3 columns</p>\n",
       "</div>"
      ],
      "text/plain": [
       "    Patient ID   Blood Pressure Before (mmHg)   Blood Pressure After (mmHg)\n",
       "0            1                            130                           120\n",
       "1            2                            142                           135\n",
       "2            3                            120                           118\n",
       "3            4                            135                           127\n",
       "4            5                            148                           140\n",
       "..         ...                            ...                           ...\n",
       "95          96                            136                           129\n",
       "96          97                            143                           137\n",
       "97          98                            127                           123\n",
       "98          99                            139                           135\n",
       "99         100                            135                           130\n",
       "\n",
       "[100 rows x 3 columns]"
      ]
     },
     "execution_count": 44,
     "metadata": {},
     "output_type": "execute_result"
    }
   ],
   "source": [
    "import pandas as pd\n",
    "from scipy.stats import shapiro\n",
    "\n",
    "# Load the dataset\n",
    "data = pd.read_csv('data BP.csv')\n",
    "\n",
    "data\n",
    "\n"
   ]
  },
  {
   "cell_type": "code",
   "execution_count": 45,
   "id": "782a544d",
   "metadata": {},
   "outputs": [],
   "source": [
    "# Remove leading and trailing spaces from column names\n",
    "data.columns = data.columns.str.strip()"
   ]
  },
  {
   "cell_type": "code",
   "execution_count": 46,
   "id": "aa8f4fbb",
   "metadata": {},
   "outputs": [],
   "source": [
    "# Calculate the difference in blood pressure\n",
    "data['Change in Blood Pressure'] = data['Blood Pressure After (mmHg)'] - data['Blood Pressure Before (mmHg)']"
   ]
  },
  {
   "cell_type": "code",
   "execution_count": 47,
   "id": "ab469055",
   "metadata": {},
   "outputs": [
    {
     "data": {
      "image/png": "[encoded data removed]",
      "text/plain": [
       "<Figure size 640x480 with 1 Axes>"
      ]
     },
     "metadata": {},
     "output_type": "display_data"
    },
    {
     "name": "stdout",
     "output_type": "stream",
     "text": [
      "The change in blood pressure does not follow a normal distribution.\n"
     ]
    }
   ],
   "source": [
    "# Visualize the data\n",
    "plt.hist(data['Change in Blood Pressure'], bins='auto', density=True)\n",
    "plt.xlabel('Change in Blood Pressure')\n",
    "plt.ylabel('Density')\n",
    "plt.title('Histogram of Change in Blood Pressure')\n",
    "plt.show()\n",
    "\n",
    "# Perform the Shapiro-Wilk normality test\n",
    "stat, p = shapiro(data['Change in Blood Pressure'])\n",
    "alpha = 0.05\n",
    "\n",
    "# Check the p-value\n",
    "if p > alpha:\n",
    "    print(\"The change in blood pressure follows a normal distribution.\")\n",
    "else:\n",
    "    print(\"The change in blood pressure does not follow a normal distribution.\")"
   ]
  },
  {
   "cell_type": "markdown",
   "id": "b1f1d415",
   "metadata": {},
   "source": [
    "7 Q-7. The equations of two lines of regression, obtained in a correlation analysis\n",
    "between variables X and Y are as follows:\n",
    "\n",
    "and . 2X + 3 − 8 = 0 2Y + X − 5 = 0 The variance of X = 4 Find the\n",
    "a. Variance of Y\n",
    "b. Coefficient of determination of C and Y\n",
    "c. Standard error of estimate of X on Y and of Y on X.\n",
    "\n",
    "# question is not complete"
   ]
  },
  {
   "cell_type": "code",
   "execution_count": 70,
   "id": "96cbd2c7",
   "metadata": {},
   "outputs": [
    {
     "name": "stdout",
     "output_type": "stream",
     "text": [
      "Variance of Y: 0.5624999999999998\n"
     ]
    }
   ],
   "source": [
    "import numpy as np\n",
    "\n",
    "# Solve the equations\n",
    "A = np.array([[2, 1], [1, 2]])\n",
    "B = np.array([8, 5])\n",
    "X = np.linalg.solve(A, B)\n",
    "\n",
    "# Calculate Y based on the value of X\n",
    "Y = (-X + 5) / 2\n",
    "\n",
    "# Calculate the variance of Y\n",
    "variance_y = np.var(Y)\n",
    "\n",
    "print(\"Variance of Y:\", variance_y)\n"
   ]
  },
  {
   "cell_type": "code",
   "execution_count": 72,
   "id": "16d33147",
   "metadata": {},
   "outputs": [
    {
     "name": "stdout",
     "output_type": "stream",
     "text": [
      "Variance of Y: 5.000000000000004\n"
     ]
    }
   ],
   "source": [
    "import numpy as np\n",
    "from sklearn.linear_model import LinearRegression\n",
    "\n",
    "# Define the data points\n",
    "X = np.array([2, 4, 6, 8])\n",
    "Y = np.array([3, 5, 7, 9])\n",
    "\n",
    "# Fit a linear regression model\n",
    "regression_model = LinearRegression().fit(X.reshape(-1, 1), Y.reshape(-1, 1))\n",
    "\n",
    "# Predict the Y values\n",
    "predicted_Y = regression_model.predict(X.reshape(-1, 1))\n",
    "\n",
    "# Calculate the variance of the predicted Y values\n",
    "variance_y = np.var(predicted_Y)\n",
    "\n",
    "print(\"Variance of Y:\", variance_y)\n"
   ]
  },
  {
   "cell_type": "code",
   "execution_count": null,
   "id": "372c858d",
   "metadata": {},
   "outputs": [],
   "source": []
  },
  {
   "cell_type": "code",
   "execution_count": null,
   "id": "47c94574",
   "metadata": {},
   "outputs": [],
   "source": []
  },
  {
   "cell_type": "raw",
   "id": "fc705088",
   "metadata": {},
   "source": [
    "Q-8. The anxiety levels of 10 participants were measured before and after a new therapy.\n",
    "The scores are not normally distributed. Use the Wilcoxon signed-rank test to test whether\n",
    "the therapy had a significant effect on anxiety levels. The data is given below: Participant\n",
    "Before therapy After therapy Difference\n",
    "Participant\tBefore therapy\tAfter therapy\tdifference\n",
    "1\t10\t7\t-3\n",
    "2\t8\t6\t-2\n",
    "3\t12\t10\t-2\n",
    "4\t15\t12\t-3\n",
    "5\t6\t5\t-1\n",
    "6\t9\t8\t-1\n",
    "7\t11\t9\t-1\n",
    "8\t7\t6\t-1\n",
    "9\t14\t12\t-2\n",
    "10\t10\t8\t-2\n"
   ]
  },
  {
   "cell_type": "code",
   "execution_count": 48,
   "id": "01daece6",
   "metadata": {},
   "outputs": [
    {
     "name": "stdout",
     "output_type": "stream",
     "text": [
      "Wilcoxon signed-rank test:\n",
      "Statistic: 0.0\n",
      "p-value: 0.001953125\n"
     ]
    }
   ],
   "source": [
    "import scipy.stats as stats\n",
    "\n",
    "# Define the data\n",
    "before = [10, 8, 12, 15, 6, 9, 11, 7, 14, 10]\n",
    "after = [7, 6, 10, 12, 5, 8, 9, 6, 12, 8]\n",
    "difference = [-3, -2, -2, -3, -1, -1, -1, -1, -2, -2]\n",
    "\n",
    "# Perform the Wilcoxon signed-rank test\n",
    "statistic, p_value = stats.wilcoxon(difference)\n",
    "\n",
    "# Print the test results\n",
    "print(\"Wilcoxon signed-rank test:\")\n",
    "print(\"Statistic:\", statistic)\n",
    "print(\"p-value:\", p_value)\n"
   ]
  },
  {
   "cell_type": "raw",
   "id": "0aa6cd5e",
   "metadata": {},
   "source": [
    "Q-9. Given the score of students in multiple exams\n",
    "\n",
    "Test the hypothesis that the mean scores of all the students are the same. If not, name the\n",
    "student with the highest score.\n",
    "Name\texam 1\texam2\tfinal exam\n",
    "Karan\t85\t90\t92\n",
    "Deepa\t70\t80\t85\n",
    "karthik\t90\t85\t88\n",
    "Chandan\t75\t70\t75\n",
    "Jeevan\t95\t92\t96\n"
   ]
  },
  {
   "cell_type": "markdown",
   "id": "b95ca708",
   "metadata": {},
   "source": [
    "To test the hypothesis that the mean scores of all the students are the same, we can use a one-way analysis of variance (ANOVA) test. The null hypothesis is that the mean scores are equal for all students.\n",
    "\n",
    "Here's the Python code to perform the one-way ANOVA test using the scipy library:"
   ]
  },
  {
   "cell_type": "code",
   "execution_count": 50,
   "id": "f4a26530",
   "metadata": {},
   "outputs": [
    {
     "name": "stdout",
     "output_type": "stream",
     "text": [
      "One-way ANOVA test:\n",
      "Statistic: 0.3236947791164659\n",
      "p-value: 0.7295954253321559\n"
     ]
    }
   ],
   "source": [
    "import scipy.stats as stats\n",
    "\n",
    "# Define the data\n",
    "exam1 = [85, 70, 90, 75, 95]\n",
    "exam2 = [90, 80, 85, 70, 92]\n",
    "final_exam = [92, 85, 88, 75, 96]\n",
    "\n",
    "# Perform the one-way ANOVA test\n",
    "statistic, p_value = stats.f_oneway(exam1, exam2, final_exam)\n",
    "\n",
    "# Print the test results\n",
    "print(\"One-way ANOVA test:\")\n",
    "print(\"Statistic:\", statistic)\n",
    "print(\"p-value:\", p_value)\n"
   ]
  },
  {
   "cell_type": "markdown",
   "id": "47217a0b",
   "metadata": {},
   "source": [
    "Based on the one-way ANOVA test results, with a statistic of 0.3237 and a p-value of 0.7296, we fail to reject the null hypothesis. This suggests that there is not enough evidence to conclude that the mean scores of all the students are significantly different.\n",
    "\n",
    "Regarding the student with the highest score, we need the scores for the final exam to determine the student with the highest overall score. Since the scores for the final exam are not provided, we cannot identify the student with the highest score based on the given information."
   ]
  },
  {
   "cell_type": "code",
   "execution_count": 52,
   "id": "09a05e2e",
   "metadata": {},
   "outputs": [
    {
     "name": "stdout",
     "output_type": "stream",
     "text": [
      "Student with the highest score: Jeevan\n"
     ]
    }
   ],
   "source": [
    "# Calculate the mean scores for each exam\n",
    "mean_scores = [sum(scores) / len(scores) for scores in zip(exam1, exam2, final_exam)]\n",
    "\n",
    "# Find the highest score and corresponding student\n",
    "highest_score = max(mean_scores)\n",
    "highest_score_index = mean_scores.index(highest_score)\n",
    "student_with_highest_score = students[highest_score_index]\n",
    "\n",
    "# Print the result\n",
    "print(\"Student with the highest score:\", student_with_highest_score)\n"
   ]
  },
  {
   "cell_type": "markdown",
   "id": "e915e63c",
   "metadata": {},
   "source": [
    "Q-10. A factory produces light bulbs, and the probability of a bulb being defective is 0.05.\n",
    "The factory produces a large batch of 500 light bulbs.\n",
    "a. What is the probability that exactly 20 bulbs are defective?\n",
    "b. What is the probability that at least 10 bulbs are defective?\n",
    "c. What is the probability that at max 15 bulbs are defective?\n",
    "d. On average, how many defective bulbs would you expect in a batch of 500?\n",
    "\n",
    "\n",
    "\n",
    "\n",
    "\n",
    "\n",
    "To solve these probability questions, we can use the binomial distribution, as the scenario involves a fixed number of trials (500 light bulbs) with a constant probability of success (defective bulb).\n",
    "\n",
    "The probability mass function (PMF) of the binomial distribution is given by:\n",
    "\n",
    "P(X = k) = C(n, k) * p^k * (1-p)^(n-k)\n",
    "\n",
    "where:\n",
    "\n",
    "P(X = k) is the probability of having k successes (defective bulbs)\n",
    "n is the total number of trials (500 bulbs)\n",
    "k is the number of successful trials (defective bulbs)\n",
    "p is the probability of success in each trial (0.05)\n",
    "C(n, k) is the binomial coefficient, calculated as C(n, k) = n! / (k! * (n-k)!)\n",
    "Let's calculate the probabilities:\n",
    "\n",
    "a. Probability of exactly 20 bulbs being defective:\n",
    "P(X = 20) = C(500, 20) * (0.05)^20 * (1-0.05)^(500-20)\n",
    "\n",
    "b. Probability of at least 10 bulbs being defective:\n",
    "P(X >= 10) = P(X = 10) + P(X = 11) + ... + P(X = 500)\n",
    "= 1 - P(X < 10)\n",
    "\n",
    "c. Probability of at most 15 bulbs being defective:\n",
    "P(X <= 15) = P(X = 0) + P(X = 1) + ... + P(X = 15)\n",
    "\n",
    "d. Expected number of defective bulbs:\n",
    "E(X) = n * p\n",
    "\n",
    "Let's calculate these probabilities and the expected number of defective bulbs using Python:"
   ]
  },
  {
   "cell_type": "code",
   "execution_count": 53,
   "id": "61b843eb",
   "metadata": {},
   "outputs": [
    {
     "name": "stdout",
     "output_type": "stream",
     "text": [
      "a. Probability of exactly 20 bulbs being defective: 0.05161619253663997\n",
      "b. Probability of at least 10 bulbs being defective: 0.9998316463654902\n",
      "c. Probability of at most 15 bulbs being defective: 0.019858377163006223\n",
      "d. Expected number of defective bulbs: 25.0\n"
     ]
    }
   ],
   "source": [
    "import math\n",
    "\n",
    "# Constants\n",
    "n = 500  # Total number of bulbs\n",
    "p = 0.05  # Probability of a bulb being defective\n",
    "\n",
    "# a. Probability of exactly 20 bulbs being defective\n",
    "k = 20\n",
    "prob_20_defective = (math.comb(n, k) * (p ** k) * ((1 - p) ** (n - k)))\n",
    "\n",
    "# b. Probability of at least 10 bulbs being defective\n",
    "prob_at_least_10_defective = 1 - sum((math.comb(n, k) * (p ** k) * ((1 - p) ** (n - k))) for k in range(10))\n",
    "\n",
    "# c. Probability of at most 15 bulbs being defective\n",
    "prob_at_most_15_defective = sum((math.comb(n, k) * (p ** k) * ((1 - p) ** (n - k))) for k in range(16))\n",
    "\n",
    "# d. Expected number of defective bulbs\n",
    "expected_defective_bulbs = n * p\n",
    "\n",
    "# Print the results\n",
    "print(\"a. Probability of exactly 20 bulbs being defective:\", prob_20_defective)\n",
    "print(\"b. Probability of at least 10 bulbs being defective:\", prob_at_least_10_defective)\n",
    "print(\"c. Probability of at most 15 bulbs being defective:\", prob_at_most_15_defective)\n",
    "print(\"d. Expected number of defective bulbs:\", expected_defective_bulbs)\n"
   ]
  },
  {
   "cell_type": "markdown",
   "id": "af614402",
   "metadata": {},
   "source": [
    "Q-11. Given the data of a feature contributing to different classes\n",
    "\n",
    "https://drive.google.com/file/d/1mCjtYHiX--mMUjicuaP2gH3k-SnFxt8Y/view?usp\n",
    "=share_\n",
    "\n",
    "a. Check whether the distribution of all the classes are the same or not.\n",
    "b. Check for the equality of variance/\n",
    "c. Which amount LDA and QDA would perform better on this data for\n",
    "classification and why.\n",
    "d. Check the equality of mean for between all the classes."
   ]
  },
  {
   "cell_type": "code",
   "execution_count": 66,
   "id": "b796bbe2",
   "metadata": {},
   "outputs": [
    {
     "data": {
      "text/html": [
       "<div>\n",
       "<style scoped>\n",
       "    .dataframe tbody tr th:only-of-type {\n",
       "        vertical-align: middle;\n",
       "    }\n",
       "\n",
       "    .dataframe tbody tr th {\n",
       "        vertical-align: top;\n",
       "    }\n",
       "\n",
       "    .dataframe thead th {\n",
       "        text-align: right;\n",
       "    }\n",
       "</style>\n",
       "<table border=\"1\" class=\"dataframe\">\n",
       "  <thead>\n",
       "    <tr style=\"text-align: right;\">\n",
       "      <th></th>\n",
       "      <th>Patient ID</th>\n",
       "      <th>Blood Pressure Before (mmHg)</th>\n",
       "      <th>Blood Pressure After (mmHg)</th>\n",
       "      <th>Change in Blood Pressure</th>\n",
       "    </tr>\n",
       "  </thead>\n",
       "  <tbody>\n",
       "    <tr>\n",
       "      <th>0</th>\n",
       "      <td>1</td>\n",
       "      <td>130</td>\n",
       "      <td>120</td>\n",
       "      <td>-10</td>\n",
       "    </tr>\n",
       "    <tr>\n",
       "      <th>1</th>\n",
       "      <td>2</td>\n",
       "      <td>142</td>\n",
       "      <td>135</td>\n",
       "      <td>-7</td>\n",
       "    </tr>\n",
       "    <tr>\n",
       "      <th>2</th>\n",
       "      <td>3</td>\n",
       "      <td>120</td>\n",
       "      <td>118</td>\n",
       "      <td>-2</td>\n",
       "    </tr>\n",
       "    <tr>\n",
       "      <th>3</th>\n",
       "      <td>4</td>\n",
       "      <td>135</td>\n",
       "      <td>127</td>\n",
       "      <td>-8</td>\n",
       "    </tr>\n",
       "    <tr>\n",
       "      <th>4</th>\n",
       "      <td>5</td>\n",
       "      <td>148</td>\n",
       "      <td>140</td>\n",
       "      <td>-8</td>\n",
       "    </tr>\n",
       "    <tr>\n",
       "      <th>...</th>\n",
       "      <td>...</td>\n",
       "      <td>...</td>\n",
       "      <td>...</td>\n",
       "      <td>...</td>\n",
       "    </tr>\n",
       "    <tr>\n",
       "      <th>95</th>\n",
       "      <td>96</td>\n",
       "      <td>136</td>\n",
       "      <td>129</td>\n",
       "      <td>-7</td>\n",
       "    </tr>\n",
       "    <tr>\n",
       "      <th>96</th>\n",
       "      <td>97</td>\n",
       "      <td>143</td>\n",
       "      <td>137</td>\n",
       "      <td>-6</td>\n",
       "    </tr>\n",
       "    <tr>\n",
       "      <th>97</th>\n",
       "      <td>98</td>\n",
       "      <td>127</td>\n",
       "      <td>123</td>\n",
       "      <td>-4</td>\n",
       "    </tr>\n",
       "    <tr>\n",
       "      <th>98</th>\n",
       "      <td>99</td>\n",
       "      <td>139</td>\n",
       "      <td>135</td>\n",
       "      <td>-4</td>\n",
       "    </tr>\n",
       "    <tr>\n",
       "      <th>99</th>\n",
       "      <td>100</td>\n",
       "      <td>135</td>\n",
       "      <td>130</td>\n",
       "      <td>-5</td>\n",
       "    </tr>\n",
       "  </tbody>\n",
       "</table>\n",
       "<p>100 rows × 4 columns</p>\n",
       "</div>"
      ],
      "text/plain": [
       "    Patient ID  Blood Pressure Before (mmHg)  Blood Pressure After (mmHg)  \\\n",
       "0            1                           130                          120   \n",
       "1            2                           142                          135   \n",
       "2            3                           120                          118   \n",
       "3            4                           135                          127   \n",
       "4            5                           148                          140   \n",
       "..         ...                           ...                          ...   \n",
       "95          96                           136                          129   \n",
       "96          97                           143                          137   \n",
       "97          98                           127                          123   \n",
       "98          99                           139                          135   \n",
       "99         100                           135                          130   \n",
       "\n",
       "    Change in Blood Pressure  \n",
       "0                        -10  \n",
       "1                         -7  \n",
       "2                         -2  \n",
       "3                         -8  \n",
       "4                         -8  \n",
       "..                       ...  \n",
       "95                        -7  \n",
       "96                        -6  \n",
       "97                        -4  \n",
       "98                        -4  \n",
       "99                        -5  \n",
       "\n",
       "[100 rows x 4 columns]"
      ]
     },
     "execution_count": 66,
     "metadata": {},
     "output_type": "execute_result"
    }
   ],
   "source": [
    "import pandas as pd\n",
    "from scipy.stats import f_oneway\n",
    "import pandas as pd\n",
    "from scipy.stats import ttest_rel\n",
    "\n",
    "data"
   ]
  },
  {
   "cell_type": "code",
   "execution_count": 67,
   "id": "cf43e3e0",
   "metadata": {},
   "outputs": [
    {
     "name": "stdout",
     "output_type": "stream",
     "text": [
      "Paired t-test results:\n",
      "T-statistic: 38.40500458621546\n",
      "P-value: 2.817165090364283e-61\n"
     ]
    }
   ],
   "source": [
    "# Extract the 'Blood Pressure Before' and 'Blood Pressure After' columns\n",
    "before = data['Blood Pressure Before (mmHg)']\n",
    "after = data['Blood Pressure After (mmHg)']\n",
    "\n",
    "# Perform paired t-test\n",
    "t_statistic, p_value = ttest_rel(before, after)\n",
    "\n",
    "# Print the results\n",
    "print(\"Paired t-test results:\")\n",
    "print(\"T-statistic:\", t_statistic)\n",
    "print(\"P-value:\", p_value)"
   ]
  },
  {
   "cell_type": "markdown",
   "id": "6aa3ea22",
   "metadata": {},
   "source": [
    "The paired t-test results indicate a significant difference between the blood pressure measurements before and after the intervention.\n",
    "\n",
    "The computed t-statistic is 38.405 and the p-value is 2.817e-61. The extremely small p-value suggests strong evidence against the null hypothesis of no difference. Therefore, we can conclude that there is a significant difference in blood pressure before and after the intervention.\n",
    "\n",
    "The large t-statistic value indicates a substantial difference between the mean blood pressure values before and after the intervention. The small p-value further confirms the statistical significance of this difference.\n",
    "\n",
    "In summary, the paired t-test provides evidence that the intervention had a significant effect on blood pressure levels.\n",
    "\n",
    "\n",
    "\n",
    "\n",
    "b To check for the equality of variance between the blood pressure measurements before and after the intervention, we can perform a test called Levene's test. Levene's test assesses whether the variances of two or more groups are statistically different.\n",
    "\n",
    "Here's how you can perform Levene's test using the provided dataset:"
   ]
  },
  {
   "cell_type": "code",
   "execution_count": 68,
   "id": "21511d86",
   "metadata": {},
   "outputs": [
    {
     "name": "stdout",
     "output_type": "stream",
     "text": [
      "Levene's test results:\n",
      "Test statistic: 0.18038002140150966\n",
      "p-value: 0.6715080090945376\n"
     ]
    }
   ],
   "source": [
    "# Perform Levene's test\n",
    "statistic, p_value = stats.levene(before, after)\n",
    "\n",
    "# Print the results\n",
    "print(\"Levene's test results:\")\n",
    "print(\"Test statistic:\", statistic)\n",
    "print(\"p-value:\", p_value)"
   ]
  },
  {
   "cell_type": "markdown",
   "id": "4b60bfa0",
   "metadata": {},
   "source": [
    "Based on the results of Levene's test, with a p-value of 0.6715, we do not have sufficient evidence to reject the null hypothesis of equal variances between the blood pressure measurements before and after the intervention. This suggests that the variance of the blood pressure measurements is similar for both groups.\n",
    "\n",
    "\n",
    "\n",
    "\n",
    "c\n",
    "\n",
    "To determine which method, Linear Discriminant Analysis (LDA) or Quadratic Discriminant Analysis (QDA), would perform better on this data for classification, we need to consider the assumptions and characteristics of each method.\n",
    "\n",
    "LDA assumes that the classes have the same covariance matrix and differ only in their means. It seeks to find a linear discriminant function that maximally separates the classes. LDA performs well when the assumption of equal covariance matrices holds and when the classes are well-separated and have distinct means.\n",
    "\n",
    "QDA, on the other hand, relaxes the assumption of equal covariance matrices and allows each class to have its own covariance matrix. QDA fits a quadratic discriminant function for each class. QDA can capture more complex decision boundaries compared to LDA but may require more training data to estimate the covariance matrices accurately.\n",
    "\n",
    "In this scenario, since we are comparing blood pressure measurements before and after an intervention, it is likely that the covariance matrices of the two groups may differ. Therefore, QDA may be more appropriate as it can capture the potential differences in the covariance structure between the groups.\n",
    "\n",
    "However, the final choice between LDA and QDA should be based on evaluating their performance on a validation dataset or through cross-validation. It is important to assess how well each method generalizes to unseen data before making a definitive conclusion about their performance on this specific dataset\n",
    "\n",
    "\n",
    "\n",
    "d\n",
    "\n",
    "To check the equality of means between all the classes, we can perform a one-way analysis of variance (ANOVA) test. The ANOVA test allows us to determine if there is a statistically significant difference in the means of multiple groups.\n",
    "\n",
    "In this case, the different classes correspond to different patients, and we want to compare the mean blood pressure before and after the intervention.\n",
    "\n",
    "Here's how you can perform the one-way ANOVA test using Python and the given dataset:"
   ]
  },
  {
   "cell_type": "code",
   "execution_count": 69,
   "id": "577ae56b",
   "metadata": {},
   "outputs": [
    {
     "name": "stdout",
     "output_type": "stream",
     "text": [
      "One-way ANOVA results:\n",
      "F-statistic: 33.85555270599285\n",
      "p-value: 2.3565868442707578e-08\n"
     ]
    }
   ],
   "source": [
    "# Extract the blood pressure values for each class\n",
    "before = data['Blood Pressure Before (mmHg)']\n",
    "after = data['Blood Pressure After (mmHg)']\n",
    "\n",
    "# Perform one-way ANOVA test\n",
    "f_statistic, p_value = f_oneway(before, after)\n",
    "\n",
    "# Print the results\n",
    "print(\"One-way ANOVA results:\")\n",
    "print(\"F-statistic:\", f_statistic)\n",
    "print(\"p-value:\", p_value)"
   ]
  },
  {
   "cell_type": "markdown",
   "id": "3a75b27c",
   "metadata": {},
   "source": [
    "Q-12. A pharmaceutical company develops a new drug and wants to compare its\n",
    "effectiveness against a standard drug for treating a particular condition. They conduct a\n",
    "study with two groups: Group A receives the new drug, and Group B receives the standard\n",
    "drug. The company measures the improvement in a specific symptom for both groups after\n",
    "a 4-week treatment period.\n",
    "a. The company collects data from 30 patients in each group and calculates the\n",
    "mean improvement score and the standard deviation of improvement for each\n",
    "group. The mean improvement score for Group A is 2.5 with a standard\n",
    "deviation of 0.8, while the mean improvement score for Group B is 2.2 with a\n",
    "standard deviation of 0.6. Conduct a t-test to determine if there is a significant\n",
    "difference in the mean improvement scores between the two groups. Use a\n",
    "significance level of 0.05.\n",
    "b. Based on the t-test results, state whether the null hypothesis should be\n",
    "rejected or not. Provide a conclusion in the context of the study.\n",
    "\n",
    "\n",
    "\n",
    "\n",
    "\n",
    "\n",
    "\n",
    "\n",
    "\n",
    "\n",
    "\n",
    "\n",
    "\n",
    "To conduct a t-test to determine if there is a significant difference in the mean improvement scores between Group A and Group B, we can follow these steps:\n",
    "\n",
    "State the null hypothesis (H0) and alternative hypothesis (Ha):\n",
    "\n",
    "H0: The mean improvement scores of Group A and Group B are equal.\n",
    "Ha: The mean improvement scores of Group A and Group B are not equal.\n",
    "Define the significance level (α) as 0.05.\n",
    "\n",
    "Calculate the t-statistic using the formula:\n",
    "t = (meanA - meanB) / sqrt((squaredDeviationA/nA) + (squaredDeviationB/nB))\n",
    "where meanA and meanB are the mean improvement scores of Group A and Group B, squaredDeviationA and squaredDeviationB are the squared standard deviations of improvement for Group A and Group B, and nA and nB are the sample sizes of Group A and Group B, respectively.\n",
    "\n",
    "Calculate the degrees of freedom (df) using the formula:\n",
    "df = nA + nB - 2\n",
    "\n",
    "Determine the critical t-value for the given significance level and degrees of freedom using a t-distribution table or a statistical software.\n",
    "\n",
    "Compare the calculated t-statistic with the critical t-value:\n",
    "\n",
    "If the calculated t-statistic is greater than the critical t-value (t > t_critical), reject the null hypothesis.\n",
    "If the calculated t-statistic is less than or equal to the critical t-value (t ≤ t_critical), fail to reject the null hypothesis.\n",
    "Calculate the p-value associated with the calculated t-statistic using a t-distribution table or a statistical software.\n",
    "\n",
    "Compare the p-value with the significance level:\n",
    "\n",
    "If the p-value is less than the significance level (p < α), reject the null hypothesis.\n",
    "If the p-value is greater than or equal to the significance level (p ≥ α), fail to reject the null hypothesis.\n",
    "Let's perform the t-test using the given data:\n",
    "\n",
    "Group A:\n",
    "Mean improvement score (meanA) = 2.5\n",
    "Standard deviation (squaredDeviationA) = 0.8\n",
    "Sample size (nA) = 30\n",
    "\n",
    "Group B:\n",
    "Mean improvement score (meanB) = 2.2\n",
    "Standard deviation (squaredDeviationB) = 0.6\n",
    "Sample size (nB) = 30\n",
    "\n",
    "Significance level (α) = 0.05\n",
    "\n",
    "\n",
    "\n",
    "\n",
    ".\n",
    "\n",
    "\n",
    "\n",
    "\n",
    "To calculate the t-statistic, degrees of freedom, critical t-value, and perform the hypothesis test, let's use the given data and formulas.\n",
    "\n",
    "Group A:\n",
    "Mean improvement score (meanA) = 2.5\n",
    "Standard deviation (squaredDeviationA) = 0.8\n",
    "Sample size (nA) = 30\n",
    "\n",
    "Group B:\n",
    "Mean improvement score (meanB) = 2.2\n",
    "Standard deviation (squaredDeviationB) = 0.6\n",
    "Sample size (nB) = 30\n",
    "\n",
    "Significance level (α) = 0.05\n",
    "\n",
    "Calculate the t-statistic:\n",
    "t = (meanA - meanB) / sqrt((squaredDeviationA/nA) + (squaredDeviationB/nB))\n",
    "t = (2.5 - 2.2) / sqrt((0.8^2/30) + (0.6^2/30))\n",
    "t = 0.3 / sqrt(0.021333 + 0.012)\n",
    "\n",
    "Calculating the square root and simplifying:\n",
    "t ≈ 0.3 / sqrt(0.033333)\n",
    "t ≈ 0.3 / 0.182574\n",
    "\n",
    "t ≈ 1.642\n",
    "\n",
    "Calculate the degrees of freedom:\n",
    "df = nA + nB - 2\n",
    "df = 30 + 30 - 2\n",
    "df = 58\n",
    "\n",
    "Determine the critical t-value for the given significance level and degrees of freedom. Since the significance level (α) is 0.05 and we have a two-tailed test, the critical t-value can be obtained from a t-distribution table or using statistical software. For df = 58 and α = 0.05, the critical t-value is approximately ±2.001.\n",
    "\n",
    "Perform the hypothesis test:\n",
    "\n",
    "Null hypothesis (H0): The mean improvement scores of Group A and Group B are equal.\n",
    "Alternative hypothesis (Ha): The mean improvement scores of Group A and Group B are not equal.\n",
    "Compare the calculated t-statistic (1.642) with the critical t-value (±2.001):\n",
    "\n",
    "Since |t_statistic| < t_critical, we fail to reject the null hypothesis.\n",
    "Calculate the p-value associated with the calculated t-statistic using a t-distribution table or statistical software:\n",
    "\n",
    "For t_statistic = 1.642 and df = 58, the p-value is approximately 0.106.\n",
    "Compare the p-value (0.106) with the significance level (0.05):\n",
    "\n",
    "Since the p-value (0.106) is greater than the significance level (0.05), we fail to reject the null hypothesis.\n",
    "Therefore, based on the t-test, there is no significant difference in the mean improvement scores between Group A and Group B at a significance level of 0.05.\n",
    "\n",
    "\n",
    "\n",
    "b).\n",
    "\n",
    "\n",
    "Based on the t-test results, with a t-statistic of approximately 1.642 and a significance level of 0.05, we compare the t-statistic with the critical t-value.\n",
    "\n",
    "The critical t-value at a significance level of 0.05 and degrees of freedom (df) = 58 is approximately ±2.001.\n",
    "\n",
    "Since the calculated t-statistic (1.642) is smaller than the critical t-value (2.001), we fail to reject the null hypothesis.\n",
    "\n",
    "Therefore, in the context of the study, we do not have enough evidence to conclude that there is a significant difference in the mean improvement scores between Group A and Group B. It suggests that the new drug does not show a significantly different mean improvement compared to the standard drug for treating the particular condition. However, it is important to note that failing to reject the null hypothesis does not necessarily mean that there is no difference; it simply means that there is not enough evidence to support the alternative hypothesis of a significant difference. Further studies with larger sample sizes may be needed to obtain more conclusive results."
   ]
  },
  {
   "cell_type": "code",
   "execution_count": null,
   "id": "9cc04242",
   "metadata": {},
   "outputs": [],
   "source": []
  }
 ],
 "metadata": {
  "kernelspec": {
   "display_name": "Python 3 (ipykernel)",
   "language": "python",
   "name": "python3"
  },
  "language_info": {
   "codemirror_mode": {
    "name": "ipython",
    "version": 3
   },
   "file_extension": ".py",
   "mimetype": "text/x-python",
   "name": "python",
   "nbconvert_exporter": "python",
   "pygments_lexer": "ipython3",
   "version": "3.9.13"
  }
 },
 "nbformat": 4,
 "nbformat_minor": 5
}
